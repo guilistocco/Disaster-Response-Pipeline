{
 "metadata": {
  "language_info": {
   "codemirror_mode": {
    "name": "ipython",
    "version": 3
   },
   "file_extension": ".py",
   "mimetype": "text/x-python",
   "name": "python",
   "nbconvert_exporter": "python",
   "pygments_lexer": "ipython3",
   "version": "3.6.3-final"
  },
  "orig_nbformat": 2,
  "kernelspec": {
   "name": "python3",
   "display_name": "Python 3.6.3 64-bit ('etl-env': conda)",
   "metadata": {
    "interpreter": {
     "hash": "674a80ecb29c801f4f788d32964c1126c015d270067ce8bd1570f94224cf7b5f"
    }
   }
  }
 },
 "nbformat": 4,
 "nbformat_minor": 2,
 "cells": [
  {
   "source": [
    "### 1. Import libraries and load data from database.\n",
    "- Import Python libraries\n",
    "- Load dataset from database with [`read_sql_table`](https://pandas.pydata.org/pandas-docs/stable/generated/pandas.read_sql_table.html)\n",
    "- Define feature and target variables X and Y"
   ],
   "cell_type": "markdown",
   "metadata": {}
  },
  {
   "cell_type": "code",
   "execution_count": 46,
   "metadata": {},
   "outputs": [],
   "source": [
    "# Importing libraries\n",
    "import numpy as np\n",
    "import pandas as pd\n",
    "from sqlalchemy import create_engine"
   ]
  },
  {
   "cell_type": "code",
   "execution_count": 47,
   "metadata": {},
   "outputs": [],
   "source": [
    "engine = create_engine('sqlite:///../DataBase.db') # nome do arquivo\n",
    "\n",
    "df = pd.read_sql_table('merged_df.db',engine) # nome da tabela\n",
    "df = df[df['related']<= 1]\n",
    "\n",
    "x_input = 'message'\n",
    "\n",
    "X = df[x_input]\n",
    "Y = df.iloc[:,4:40]"
   ]
  },
  {
   "cell_type": "code",
   "execution_count": 48,
   "metadata": {},
   "outputs": [
    {
     "output_type": "execute_result",
     "data": {
      "text/plain": [
       "array(['direct', 'social', 'news'], dtype=object)"
      ]
     },
     "metadata": {},
     "execution_count": 48
    }
   ],
   "source": [
    "df['genre'].unique()"
   ]
  },
  {
   "source": [
    "### 2. Write a tokenization function to process your text data"
   ],
   "cell_type": "markdown",
   "metadata": {}
  },
  {
   "cell_type": "code",
   "execution_count": 49,
   "metadata": {},
   "outputs": [
    {
     "output_type": "stream",
     "name": "stderr",
     "text": [
      "[nltk_data] Downloading package stopwords to\n[nltk_data]     C:\\Users\\Windows10\\AppData\\Roaming\\nltk_data...\n[nltk_data]   Package stopwords is already up-to-date!\n[nltk_data] Downloading package wordnet to\n[nltk_data]     C:\\Users\\Windows10\\AppData\\Roaming\\nltk_data...\n[nltk_data]   Package wordnet is already up-to-date!\n"
     ]
    }
   ],
   "source": [
    "import re\n",
    "import nltk\n",
    "from nltk.tokenize import word_tokenize\n",
    "from nltk.stem import WordNetLemmatizer\n",
    "from nltk.corpus import stopwords  \n",
    "\n",
    "\n",
    "nltk.download('stopwords')\n",
    "nltk.download('wordnet')\n",
    "stop_words = set(stopwords.words('english'))\n",
    "url_regex = 'http[s]?://(?:[a-zA-Z]|[0-9]|[$-_@.&+]|[!*\\(\\),]|(?:%[0-9a-fA-F][0-9a-fA-F]))+'\n",
    "\n",
    "\n",
    "def tokenize(text):\n",
    "\n",
    "    detected_urls = re.findall(url_regex, text)\n",
    "    for url in detected_urls:\n",
    "        text = text.replace(url, \"urlplaceholder\")\n",
    "\n",
    "        \n",
    "    lemmatizer = WordNetLemmatizer()\n",
    "\n",
    "    tokens = nltk.wordpunct_tokenize(text)\n",
    "    text = nltk.Text(tokens)\n",
    "\n",
    "    clean_tokens = [lemmatizer.lemmatize(w).lower().strip() for w in text if w.isalpha()]\n",
    "    filtered_tokens = [w for w in clean_tokens if not w in stop_words]  \n",
    "\n",
    "\n",
    "    return filtered_tokens"
   ]
  },
  {
   "cell_type": "code",
   "execution_count": 50,
   "metadata": {},
   "outputs": [
    {
     "output_type": "execute_result",
     "data": {
      "text/plain": [
       "'I would like to receive the messages, thank you'"
      ]
     },
     "metadata": {},
     "execution_count": 50
    }
   ],
   "source": [
    "# message example\n",
    "df.iloc[8,1]"
   ]
  },
  {
   "cell_type": "code",
   "execution_count": 51,
   "metadata": {},
   "outputs": [
    {
     "output_type": "execute_result",
     "data": {
      "text/plain": [
       "['would', 'like', 'receive', 'message', 'thank']"
      ]
     },
     "metadata": {},
     "execution_count": 51
    }
   ],
   "source": [
    "tokenize(df.iloc[8,1])"
   ]
  },
  {
   "source": [
    "### 3. Build a machine learning pipeline\n",
    "This machine pipeline should take in the `message` column as input and output classification results on the other 36 categories in the dataset. You may find the [MultiOutputClassifier](http://scikit-learn.org/stable/modules/generated/sklearn.multioutput.MultiOutputClassifier.html) helpful for predicting multiple target variables."
   ],
   "cell_type": "markdown",
   "metadata": {}
  },
  {
   "cell_type": "code",
   "execution_count": 52,
   "metadata": {},
   "outputs": [],
   "source": [
    "from sklearn.pipeline import Pipeline\n",
    "from sklearn.model_selection import train_test_split\n",
    "from sklearn.multioutput import MultiOutputClassifier\n",
    "from sklearn.neighbors import KNeighborsClassifier\n",
    "from sklearn.feature_extraction.text import CountVectorizer, TfidfTransformer"
   ]
  },
  {
   "cell_type": "code",
   "execution_count": 53,
   "metadata": {},
   "outputs": [],
   "source": [
    "\n",
    "pipeline = Pipeline([\n",
    "    ('vect', CountVectorizer(tokenizer=tokenize)),\n",
    "    ('tfidf', TfidfTransformer()),\n",
    "    ('clf', MultiOutputClassifier(KNeighborsClassifier()))\n",
    "])"
   ]
  },
  {
   "source": [
    "### 4. Train pipeline\n",
    "- Split data into train and test sets\n",
    "- Train pipeline"
   ],
   "cell_type": "markdown",
   "metadata": {}
  },
  {
   "cell_type": "code",
   "execution_count": 54,
   "metadata": {},
   "outputs": [],
   "source": [
    "X_train, X_test, y_train, y_test = train_test_split(X, Y, test_size=0.25, random_state=42)\n",
    "# y atre eache topic related\n",
    "# X is the message"
   ]
  },
  {
   "cell_type": "code",
   "execution_count": 55,
   "metadata": {},
   "outputs": [
    {
     "output_type": "stream",
     "name": "stdout",
     "text": [
      "Wall time: 4.01 s\n"
     ]
    },
    {
     "output_type": "execute_result",
     "data": {
      "text/plain": [
       "Pipeline(memory=None,\n",
       "     steps=[('vect', CountVectorizer(analyzer='word', binary=False, decode_error='strict',\n",
       "        dtype=<class 'numpy.int64'>, encoding='utf-8', input='content',\n",
       "        lowercase=True, max_df=1.0, max_features=None, min_df=1,\n",
       "        ngram_range=(1, 1), preprocessor=None, stop_words=None,\n",
       "        strip...ric_params=None, n_jobs=1, n_neighbors=5, p=2,\n",
       "           weights='uniform'),\n",
       "           n_jobs=1))])"
      ]
     },
     "metadata": {},
     "execution_count": 55
    }
   ],
   "source": [
    "%%time\n",
    "pipeline.fit(X_train,y_train)"
   ]
  },
  {
   "cell_type": "code",
   "execution_count": 56,
   "metadata": {},
   "outputs": [
    {
     "output_type": "stream",
     "name": "stdout",
     "text": [
      "Wall time: 1min 39s\n"
     ]
    }
   ],
   "source": [
    "%%time\n",
    "\n",
    "y_pred = pipeline.predict(X_test)"
   ]
  },
  {
   "source": [
    "### 5. Test your model\n",
    "Report the f1 score, precision and recall for each output category of the dataset. You can do this by iterating through the columns and calling sklearn's `classification_report` on each."
   ],
   "cell_type": "markdown",
   "metadata": {}
  },
  {
   "cell_type": "code",
   "execution_count": 57,
   "metadata": {},
   "outputs": [],
   "source": [
    "from sklearn.metrics import classification_report\n"
   ]
  },
  {
   "cell_type": "code",
   "execution_count": 58,
   "metadata": {},
   "outputs": [
    {
     "output_type": "stream",
     "name": "stdout",
     "text": [
      "['related', 'request', 'offer', 'aid_related', 'medical_help', 'medical_products', 'search_and_rescue', 'security', 'military', 'child_alone', 'water', 'food', 'shelter', 'clothing', 'money', 'missing_people', 'refugees', 'death', 'other_aid', 'infrastructure_related', 'transport', 'buildings', 'electricity', 'tools', 'hospitals', 'shops', 'aid_centers', 'other_infrastructure', 'weather_related', 'floods', 'storm', 'fire', 'earthquake', 'cold', 'other_weather', 'direct_report']\n"
     ]
    }
   ],
   "source": [
    "print(y_test.columns.to_list())"
   ]
  },
  {
   "cell_type": "code",
   "execution_count": 59,
   "metadata": {
    "tags": []
   },
   "outputs": [
    {
     "output_type": "stream",
     "name": "stdout",
     "text": [
      "0 related\n",
      "             precision    recall  f1-score   support\n",
      "\n",
      "          0       0.58      0.46      0.51      1569\n",
      "          1       0.84      0.89      0.87      4938\n",
      "\n",
      "avg / total       0.78      0.79      0.78      6507\n",
      "\n",
      "1 request\n",
      "             precision    recall  f1-score   support\n",
      "\n",
      "          0       0.91      0.94      0.92      5403\n",
      "          1       0.64      0.54      0.59      1104\n",
      "\n",
      "avg / total       0.86      0.87      0.87      6507\n",
      "\n",
      "2 offer\n",
      "             precision    recall  f1-score   support\n",
      "\n",
      "          0       1.00      1.00      1.00      6481\n",
      "          1       0.00      0.00      0.00        26\n",
      "\n",
      "avg / total       0.99      1.00      0.99      6507\n",
      "\n",
      "3 aid_related\n",
      "             precision    recall  f1-score   support\n",
      "\n",
      "          0       0.72      0.79      0.75      3793\n",
      "          1       0.66      0.56      0.61      2714\n",
      "\n",
      "avg / total       0.69      0.69      0.69      6507\n",
      "\n",
      "4 medical_help\n",
      "             precision    recall  f1-score   support\n",
      "\n",
      "          0       0.93      0.99      0.96      5965\n",
      "          1       0.56      0.15      0.24       542\n",
      "\n",
      "avg / total       0.90      0.92      0.90      6507\n",
      "\n",
      "5 medical_products\n",
      "             precision    recall  f1-score   support\n",
      "\n",
      "          0       0.95      0.99      0.97      6160\n",
      "          1       0.59      0.14      0.23       347\n",
      "\n",
      "avg / total       0.93      0.95      0.93      6507\n",
      "\n",
      "6 search_and_rescue\n",
      "             precision    recall  f1-score   support\n",
      "\n",
      "          0       0.97      1.00      0.99      6315\n",
      "          1       0.67      0.06      0.11       192\n",
      "\n",
      "avg / total       0.96      0.97      0.96      6507\n",
      "\n",
      "7 security\n",
      "             precision    recall  f1-score   support\n",
      "\n",
      "          0       0.98      1.00      0.99      6374\n",
      "          1       0.33      0.01      0.01       133\n",
      "\n",
      "avg / total       0.97      0.98      0.97      6507\n",
      "\n",
      "8 military\n",
      "             precision    recall  f1-score   support\n",
      "\n",
      "          0       0.97      1.00      0.98      6282\n",
      "          1       0.57      0.13      0.21       225\n",
      "\n",
      "avg / total       0.96      0.97      0.96      6507\n",
      "\n",
      "9 child_alone\n",
      "             precision    recall  f1-score   support\n",
      "\n",
      "          0       1.00      1.00      1.00      6507\n",
      "\n",
      "avg / total       1.00      1.00      1.00      6507\n",
      "\n",
      "10 water\n",
      "             precision    recall  f1-score   support\n",
      "\n",
      "          0       0.95      0.99      0.97      6077\n",
      "          1       0.62      0.30      0.40       430\n",
      "\n",
      "avg / total       0.93      0.94      0.93      6507\n",
      "\n",
      "11 food\n",
      "             precision    recall  f1-score   support\n",
      "\n",
      "          0       0.93      0.97      0.95      5776\n",
      "          1       0.67      0.42      0.52       731\n",
      "\n",
      "avg / total       0.90      0.91      0.90      6507\n",
      "\n",
      "12 shelter\n",
      "             precision    recall  f1-score   support\n",
      "\n",
      "          0       0.93      0.99      0.96      5909\n",
      "          1       0.67      0.24      0.35       598\n",
      "\n",
      "avg / total       0.90      0.92      0.90      6507\n",
      "\n",
      "13 clothing\n",
      "             precision    recall  f1-score   support\n",
      "\n",
      "          0       0.99      1.00      0.99      6406\n",
      "          1       0.45      0.10      0.16       101\n",
      "\n",
      "avg / total       0.98      0.98      0.98      6507\n",
      "\n",
      "14 money\n",
      "             precision    recall  f1-score   support\n",
      "\n",
      "          0       0.98      1.00      0.99      6339\n",
      "          1       0.74      0.10      0.18       168\n",
      "\n",
      "avg / total       0.97      0.98      0.97      6507\n",
      "\n",
      "15 missing_people\n",
      "             precision    recall  f1-score   support\n",
      "\n",
      "          0       0.99      1.00      0.99      6439\n",
      "          1       0.50      0.03      0.06        68\n",
      "\n",
      "avg / total       0.98      0.99      0.98      6507\n",
      "\n",
      "16 refugees\n",
      "             precision    recall  f1-score   support\n",
      "\n",
      "          0       0.97      1.00      0.98      6299\n",
      "          1       0.52      0.06      0.11       208\n",
      "\n",
      "avg / total       0.96      0.97      0.96      6507\n",
      "\n",
      "17 death\n",
      "             precision    recall  f1-score   support\n",
      "\n",
      "          0       0.97      1.00      0.98      6213\n",
      "          1       0.70      0.24      0.36       294\n",
      "\n",
      "avg / total       0.95      0.96      0.95      6507\n",
      "\n",
      "18 other_aid\n",
      "             precision    recall  f1-score   support\n",
      "\n",
      "          0       0.88      0.97      0.93      5673\n",
      "          1       0.38      0.11      0.17       834\n",
      "\n",
      "avg / total       0.82      0.86      0.83      6507\n",
      "\n",
      "19 infrastructure_related\n",
      "             precision    recall  f1-score   support\n",
      "\n",
      "          0       0.94      0.99      0.97      6088\n",
      "          1       0.33      0.04      0.07       419\n",
      "\n",
      "avg / total       0.90      0.93      0.91      6507\n",
      "\n",
      "20 transport\n",
      "             precision    recall  f1-score   support\n",
      "\n",
      "          0       0.96      1.00      0.98      6210\n",
      "          1       0.62      0.11      0.19       297\n",
      "\n",
      "avg / total       0.94      0.96      0.94      6507\n",
      "\n",
      "21 buildings\n",
      "             precision    recall  f1-score   support\n",
      "\n",
      "          0       0.95      1.00      0.97      6148\n",
      "          1       0.69      0.15      0.24       359\n",
      "\n",
      "avg / total       0.94      0.95      0.93      6507\n",
      "\n",
      "22 electricity\n",
      "             precision    recall  f1-score   support\n",
      "\n",
      "          0       0.98      1.00      0.99      6380\n",
      "          1       0.70      0.13      0.21       127\n",
      "\n",
      "avg / total       0.98      0.98      0.98      6507\n",
      "\n",
      "23 tools\n",
      "             precision    recall  f1-score   support\n",
      "\n",
      "          0       0.99      1.00      1.00      6467\n",
      "          1       0.00      0.00      0.00        40\n",
      "\n",
      "avg / total       0.99      0.99      0.99      6507\n",
      "\n",
      "24 hospitals\n",
      "             precision    recall  f1-score   support\n",
      "\n",
      "          0       0.99      1.00      0.99      6436\n",
      "          1       0.00      0.00      0.00        71\n",
      "\n",
      "avg / total       0.98      0.99      0.98      6507\n",
      "\n",
      "25 shops\n",
      "             precision    recall  f1-score   support\n",
      "\n",
      "          0       0.99      1.00      1.00      6472\n",
      "          1       0.00      0.00      0.00        35\n",
      "\n",
      "avg / total       0.99      0.99      0.99      6507\n",
      "\n",
      "26 aid_centers\n",
      "             precision    recall  f1-score   support\n",
      "\n",
      "          0       0.99      1.00      0.99      6435\n",
      "          1       0.00      0.00      0.00        72\n",
      "\n",
      "avg / total       0.98      0.99      0.98      6507\n",
      "\n",
      "27 other_infrastructure\n",
      "             precision    recall  f1-score   support\n",
      "\n",
      "          0       0.96      1.00      0.98      6226\n",
      "          1       0.17      0.02      0.04       281\n",
      "\n",
      "avg / total       0.92      0.95      0.94      6507\n",
      "\n",
      "28 weather_related\n",
      "             precision    recall  f1-score   support\n",
      "\n",
      "          0       0.83      0.92      0.88      4693\n",
      "          1       0.72      0.52      0.61      1814\n",
      "\n",
      "avg / total       0.80      0.81      0.80      6507\n",
      "\n",
      "29 floods\n",
      "             precision    recall  f1-score   support\n",
      "\n",
      "          0       0.93      0.99      0.96      5973\n",
      "          1       0.67      0.22      0.33       534\n",
      "\n",
      "avg / total       0.91      0.93      0.91      6507\n",
      "\n",
      "30 storm\n",
      "             precision    recall  f1-score   support\n",
      "\n",
      "          0       0.93      0.98      0.96      5883\n",
      "          1       0.67      0.31      0.43       624\n",
      "\n",
      "avg / total       0.91      0.92      0.91      6507\n",
      "\n",
      "31 fire\n",
      "             precision    recall  f1-score   support\n",
      "\n",
      "          0       0.99      1.00      0.99      6435\n",
      "          1       0.67      0.08      0.15        72\n",
      "\n",
      "avg / total       0.99      0.99      0.99      6507\n",
      "\n",
      "32 earthquake\n",
      "             precision    recall  f1-score   support\n",
      "\n",
      "          0       0.95      0.98      0.97      5901\n",
      "          1       0.76      0.52      0.62       606\n",
      "\n",
      "avg / total       0.93      0.94      0.94      6507\n",
      "\n",
      "33 cold\n",
      "             precision    recall  f1-score   support\n",
      "\n",
      "          0       0.98      1.00      0.99      6367\n",
      "          1       0.61      0.12      0.20       140\n",
      "\n",
      "avg / total       0.97      0.98      0.97      6507\n",
      "\n",
      "34 other_weather\n",
      "             precision    recall  f1-score   support\n",
      "\n",
      "          0       0.95      0.99      0.97      6177\n",
      "          1       0.51      0.11      0.18       330\n",
      "\n",
      "avg / total       0.93      0.95      0.93      6507\n",
      "\n",
      "35 direct_report\n",
      "             precision    recall  f1-score   support\n",
      "\n",
      "          0       0.86      0.94      0.90      5210\n",
      "          1       0.61      0.39      0.47      1297\n",
      "\n",
      "avg / total       0.81      0.83      0.81      6507\n",
      "\n",
      "D:\\Users\\guilh\\Anaconda3\\envs\\etl-env\\lib\\site-packages\\sklearn\\metrics\\classification.py:1135: UndefinedMetricWarning: Precision and F-score are ill-defined and being set to 0.0 in labels with no predicted samples.\n",
      "  'precision', 'predicted', average, warn_for)\n"
     ]
    }
   ],
   "source": [
    "target_names = y_test.columns.to_list()\n",
    "for i,col in enumerate(y_test.columns):\n",
    "    print(i,col)\n",
    "    print(classification_report(y_test[col], y_pred[:,i]))"
   ]
  },
  {
   "cell_type": "code",
   "execution_count": 60,
   "metadata": {},
   "outputs": [
    {
     "output_type": "execute_result",
     "data": {
      "text/plain": [
       "6507"
      ]
     },
     "metadata": {},
     "execution_count": 60
    }
   ],
   "source": [
    "len(y_pred[:,0])"
   ]
  },
  {
   "cell_type": "code",
   "execution_count": 61,
   "metadata": {},
   "outputs": [
    {
     "output_type": "execute_result",
     "data": {
      "text/plain": [
       "21046    0\n",
       "12461    0\n",
       "25670    0\n",
       "13912    0\n",
       "14719    0\n",
       "        ..\n",
       "5004     0\n",
       "10443    0\n",
       "4542     1\n",
       "20668    0\n",
       "5170     1\n",
       "Name: direct_report, Length: 6507, dtype: int64"
      ]
     },
     "metadata": {},
     "execution_count": 61
    }
   ],
   "source": [
    "y_test[col]"
   ]
  },
  {
   "source": [
    "### 6. Improve your model\n",
    "Use grid search to find better parameters. "
   ],
   "cell_type": "markdown",
   "metadata": {}
  },
  {
   "cell_type": "code",
   "execution_count": 62,
   "metadata": {},
   "outputs": [
    {
     "output_type": "stream",
     "name": "stdout",
     "text": [
      "Wall time: 0 ns\n"
     ]
    },
    {
     "output_type": "execute_result",
     "data": {
      "text/plain": [
       "{'memory': None,\n",
       " 'steps': [('vect',\n",
       "   CountVectorizer(analyzer='word', binary=False, decode_error='strict',\n",
       "           dtype=<class 'numpy.int64'>, encoding='utf-8', input='content',\n",
       "           lowercase=True, max_df=1.0, max_features=None, min_df=1,\n",
       "           ngram_range=(1, 1), preprocessor=None, stop_words=None,\n",
       "           strip_accents=None, token_pattern='(?u)\\\\b\\\\w\\\\w+\\\\b',\n",
       "           tokenizer=<function tokenize at 0x000002A6846F3C80>,\n",
       "           vocabulary=None)),\n",
       "  ('tfidf',\n",
       "   TfidfTransformer(norm='l2', smooth_idf=True, sublinear_tf=False, use_idf=True)),\n",
       "  ('clf',\n",
       "   MultiOutputClassifier(estimator=KNeighborsClassifier(algorithm='auto', leaf_size=30, metric='minkowski',\n",
       "              metric_params=None, n_jobs=1, n_neighbors=5, p=2,\n",
       "              weights='uniform'),\n",
       "              n_jobs=1))],\n",
       " 'vect': CountVectorizer(analyzer='word', binary=False, decode_error='strict',\n",
       "         dtype=<class 'numpy.int64'>, encoding='utf-8', input='content',\n",
       "         lowercase=True, max_df=1.0, max_features=None, min_df=1,\n",
       "         ngram_range=(1, 1), preprocessor=None, stop_words=None,\n",
       "         strip_accents=None, token_pattern='(?u)\\\\b\\\\w\\\\w+\\\\b',\n",
       "         tokenizer=<function tokenize at 0x000002A6846F3C80>,\n",
       "         vocabulary=None),\n",
       " 'tfidf': TfidfTransformer(norm='l2', smooth_idf=True, sublinear_tf=False, use_idf=True),\n",
       " 'clf': MultiOutputClassifier(estimator=KNeighborsClassifier(algorithm='auto', leaf_size=30, metric='minkowski',\n",
       "            metric_params=None, n_jobs=1, n_neighbors=5, p=2,\n",
       "            weights='uniform'),\n",
       "            n_jobs=1),\n",
       " 'vect__analyzer': 'word',\n",
       " 'vect__binary': False,\n",
       " 'vect__decode_error': 'strict',\n",
       " 'vect__dtype': numpy.int64,\n",
       " 'vect__encoding': 'utf-8',\n",
       " 'vect__input': 'content',\n",
       " 'vect__lowercase': True,\n",
       " 'vect__max_df': 1.0,\n",
       " 'vect__max_features': None,\n",
       " 'vect__min_df': 1,\n",
       " 'vect__ngram_range': (1, 1),\n",
       " 'vect__preprocessor': None,\n",
       " 'vect__stop_words': None,\n",
       " 'vect__strip_accents': None,\n",
       " 'vect__token_pattern': '(?u)\\\\b\\\\w\\\\w+\\\\b',\n",
       " 'vect__tokenizer': <function __main__.tokenize(text)>,\n",
       " 'vect__vocabulary': None,\n",
       " 'tfidf__norm': 'l2',\n",
       " 'tfidf__smooth_idf': True,\n",
       " 'tfidf__sublinear_tf': False,\n",
       " 'tfidf__use_idf': True,\n",
       " 'clf__estimator__algorithm': 'auto',\n",
       " 'clf__estimator__leaf_size': 30,\n",
       " 'clf__estimator__metric': 'minkowski',\n",
       " 'clf__estimator__metric_params': None,\n",
       " 'clf__estimator__n_jobs': 1,\n",
       " 'clf__estimator__n_neighbors': 5,\n",
       " 'clf__estimator__p': 2,\n",
       " 'clf__estimator__weights': 'uniform',\n",
       " 'clf__estimator': KNeighborsClassifier(algorithm='auto', leaf_size=30, metric='minkowski',\n",
       "            metric_params=None, n_jobs=1, n_neighbors=5, p=2,\n",
       "            weights='uniform'),\n",
       " 'clf__n_jobs': 1}"
      ]
     },
     "metadata": {},
     "execution_count": 62
    }
   ],
   "source": [
    "%%time\n",
    "\n",
    "from sklearn.model_selection import GridSearchCV\n",
    "pipeline.get_params()"
   ]
  },
  {
   "cell_type": "code",
   "execution_count": 63,
   "metadata": {},
   "outputs": [],
   "source": [
    "%%time\n",
    "\n",
    "# parameters = {\n",
    "#     'vect__max_df': (0.5, 0.75, 1.0),\n",
    "#     'vect__max_features': (None, 3000, 5000),\n",
    "#     'vect__ngram_range': ((1,1),(1,2)) ,\n",
    "#     'tfidf__use_idf': (True,False),\n",
    "#     'clf__estimator__n_neighbors': (3,5,11,15),\n",
    "#     'clf__estimator__weights': ('uniform','distance'),\n",
    "#     'clf__estimator__metric': ('minkowski','euclidean','manhattan')\n",
    "\n",
    "# }\n",
    "\n",
    "parameters = {\n",
    "    # 'vect__max_df': (0.5, 0.75),\n",
    "    'vect__max_features': (1000, 3000),\n",
    "    # 'vect__ngram_range': ((1,1),(1,2)) ,\n",
    "    # 'tfidf__use_idf': (True,False),\n",
    "    'clf__estimator__n_neighbors': (3,5),\n",
    "    # 'clf__estimator__weights': ('uniform','distance'),\n",
    "    # 'clf__estimator__metric': ('minkowski','euclidean')\n",
    "\n",
    "}\n",
    "\n",
    "cv = GridSearchCV(pipeline, param_grid=parameters, n_jobs=4)\n",
    "cv_results = cv.fit(X_train,y_train)\n",
    "print(cv.best_params_)"
   ]
  },
  {
   "source": [
    "### 7. Test your model\n",
    "Show the accuracy, precision, and recall of the tuned model.  \n",
    "\n",
    "Since this project focuses on code quality, process, and  pipelines, there is no minimum performance metric needed to pass. However, make sure to fine tune your models for accuracy, precision and recall to make your project stand out - especially for your portfolio!"
   ],
   "cell_type": "markdown",
   "metadata": {}
  },
  {
   "cell_type": "code",
   "execution_count": 27,
   "metadata": {},
   "outputs": [],
   "source": [
    "pipeline_tuned = Pipeline([\n",
    "    ('vect', CountVectorizer(tokenizer=tokenize, max_features= 1000)),\n",
    "    ('tfidf', TfidfTransformer()),\n",
    "    ('clf', MultiOutputClassifier(KNeighborsClassifier(n_neighbors=3, metric='minkowski')))\n",
    "])"
   ]
  },
  {
   "source": [
    "\n",
    "### 8. Try improving your model further. Here are a few ideas:\n",
    "* try other machine learning algorithms\n",
    "* add other features besides the TF-IDF"
   ],
   "cell_type": "markdown",
   "metadata": {}
  },
  {
   "source": [
    "### 9. Export your model as a pickle file"
   ],
   "cell_type": "markdown",
   "metadata": {}
  },
  {
   "cell_type": "code",
   "execution_count": 31,
   "metadata": {},
   "outputs": [],
   "source": [
    "import pickle\n",
    "pipeline_tuned.fit(X_train,y_train)\n",
    "\n",
    "filename = 'finalized_model.sav'\n",
    "pickle.dump(pipeline_tuned, open(filename, 'wb'))\n",
    " \n",
    "# some time later...\n",
    " "
   ]
  },
  {
   "source": [
    "### 10. Use this notebook to complete `train.py`\n",
    "Use the template file attached in the Resources folder to write a script that runs the steps above to create a database and export a model based on a new dataset specified by the user."
   ],
   "cell_type": "markdown",
   "metadata": {}
  },
  {
   "cell_type": "code",
   "execution_count": 33,
   "metadata": {},
   "outputs": [
    {
     "output_type": "stream",
     "name": "stdout",
     "text": [
      "0.25328043942630457\n"
     ]
    }
   ],
   "source": [
    " \n",
    "# load the model from disk\n",
    "loaded_model = pickle.load(open(filename, 'rb'))\n",
    "result = loaded_model.score(X_test, y_test)\n",
    "print(result)"
   ]
  }
 ]
}